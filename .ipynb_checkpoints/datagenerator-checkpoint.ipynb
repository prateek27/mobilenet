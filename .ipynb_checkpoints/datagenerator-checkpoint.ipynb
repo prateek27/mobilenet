{
 "cells": [
  {
   "cell_type": "code",
   "execution_count": 55,
   "metadata": {},
   "outputs": [],
   "source": [
    "import numpy as np\n",
    "import keras\n",
    "from keras.preprocessing import image\n",
    "import os\n",
    "from keras.utils import Sequence\n",
    "from PIL import Image\n"
   ]
  },
  {
   "cell_type": "code",
   "execution_count": 56,
   "metadata": {},
   "outputs": [],
   "source": [
    "base_path = '../tiny-imagenet-200/tiny-imagenet-200/train'\n",
    "BATCH_SIZE = 128\n",
    "IMG_DIM = (224,224)"
   ]
  },
  {
   "cell_type": "code",
   "execution_count": 57,
   "metadata": {},
   "outputs": [],
   "source": [
    "\n",
    "def preprocess_input(x,mode='tf'):\n",
    "        \"\"\"\n",
    "            - tf: will scale pixels between -1 and 1,\n",
    "                sample-wise.\n",
    "            - torch: will scale pixels between 0 and 1 and then\n",
    "                will normalize each channel with respect to the\n",
    "                ImageNet dataset.\n",
    "                \n",
    "        \"\"\"\n",
    "        if mode=='tf':\n",
    "            x = x/127.5\n",
    "            x -= 1\n",
    "            return x\n",
    "        \n",
    "        if mode=='torch':\n",
    "            mean = [0.485,0.456,0.406]\n",
    "            std = [0.229,0.224,0.225]\n",
    "            x /= 255.0\n",
    "            x[...,0] -= mean[0]\n",
    "            x[...,1] -= mean[1]\n",
    "            x[...,2] -= mean[2]\n",
    "            \n",
    "            x[...,0] /= std[0]\n",
    "            x[...,1] /= std[1]\n",
    "            x[...,2] /= std[2]\n",
    "            \n",
    "        return x\n",
    "        "
   ]
  },
  {
   "cell_type": "code",
   "execution_count": 58,
   "metadata": {},
   "outputs": [],
   "source": [
    "class DataGenerator(Sequence):\n",
    "    'Generates data for Keras'\n",
    "    def __init__(self, list_IDs, labels, batch_size=32, dim=(32,32,32), n_channels=1,\n",
    "                 n_classes=10, shuffle=True):\n",
    "        'Initialization'\n",
    "        self.dim = dim\n",
    "        self.batch_size = batch_size\n",
    "        self.labels = labels\n",
    "        self.list_IDs = list_IDs\n",
    "        self.n_channels = n_channels\n",
    "        self.n_classes = n_classes\n",
    "        self.shuffle = shuffle\n",
    "        self.on_epoch_end()\n",
    "\n",
    "    def __len__(self):\n",
    "        'Denotes the number of batches per epoch'\n",
    "        return int(np.floor(len(self.list_IDs) / self.batch_size))\n",
    "\n",
    "    def __getitem__(self, index):\n",
    "        'Generate one batch of data'\n",
    "        # Generate indexes of the batch\n",
    "        indexes = self.indexes[index*self.batch_size:(index+1)*self.batch_size]\n",
    "\n",
    "        # Find list of IDs\n",
    "        list_IDs_temp = [self.list_IDs[k] for k in indexes]\n",
    "\n",
    "        # Generate data\n",
    "        X, y = self.__data_generation(list_IDs_temp)\n",
    "\n",
    "        return X, y\n",
    "\n",
    "    def on_epoch_end(self):\n",
    "        'Updates indexes after each epoch'\n",
    "        self.indexes = np.arange(len(self.list_IDs))\n",
    "        if self.shuffle == True:\n",
    "            np.random.shuffle(self.indexes)\n",
    "\n",
    "    def __data_generation(self, list_IDs_temp):\n",
    "        'Generates data containing batch_size samples' # X : (n_samples, *dim, n_channels)\n",
    "        # Initialization\n",
    "        X = np.empty((self.batch_size, *self.dim, self.n_channels))\n",
    "        y = np.empty((self.batch_size), dtype=int)\n",
    "\n",
    "        # Generate data\n",
    "        for i, f in enumerate(list_IDs_temp):\n",
    "            # Store sample\n",
    "            img = Image.open(f)\n",
    "            img = img.resize(self.dim)\n",
    "            img = img.convert('RGB')\n",
    "            X[i,] = preprocess_input(np.array(img,dtype=np.float32))\n",
    "            img.close()\n",
    "            \n",
    "            \n",
    "            # Store class\n",
    "            y[i] = self.labels[ID]\n",
    "\n",
    "        return X, keras.utils.to_categorical(y, num_classes=self.n_classes)"
   ]
  },
  {
   "cell_type": "code",
   "execution_count": 59,
   "metadata": {},
   "outputs": [],
   "source": [
    "partition = {\n",
    "    'train': [],\n",
    "    'validation': []\n",
    "}\n",
    "labels = {}\n",
    "class_ids = {}\n",
    "cnt = 0"
   ]
  },
  {
   "cell_type": "code",
   "execution_count": null,
   "metadata": {},
   "outputs": [],
   "source": []
  },
  {
   "cell_type": "code",
   "execution_count": 60,
   "metadata": {},
   "outputs": [],
   "source": [
    "#Process Training Data"
   ]
  },
  {
   "cell_type": "code",
   "execution_count": 61,
   "metadata": {},
   "outputs": [],
   "source": [
    "for label in os.listdir(base_path):\n",
    "    temp = os.path.join(base_path, label)\n",
    "    \n",
    "    if class_ids.get(label) is None:\n",
    "        class_ids[label] = cnt\n",
    "        cnt += 1\n",
    "    \n",
    "    img_fldr_path = os.path.join(temp, 'images')\n",
    "    for imgs in os.listdir(img_fldr_path):\n",
    "        ID = os.path.join(img_fldr_path, imgs)\n",
    "        partition['train'].append( ID )\n",
    "        labels[ID] = class_ids[label]"
   ]
  },
  {
   "cell_type": "code",
   "execution_count": 62,
   "metadata": {},
   "outputs": [
    {
     "name": "stdout",
     "output_type": "stream",
     "text": [
      "100000\n"
     ]
    }
   ],
   "source": [
    "print(len(labels))"
   ]
  },
  {
   "cell_type": "code",
   "execution_count": 63,
   "metadata": {},
   "outputs": [],
   "source": [
    "NO_OF_CLASSES = len((os.listdir(base_path)))"
   ]
  },
  {
   "cell_type": "code",
   "execution_count": 64,
   "metadata": {},
   "outputs": [],
   "source": [
    "#Process Validation Data\n",
    "base_path_valid = '../tiny-imagenet-200/tiny-imagenet-200/val'\n",
    "st = '../tiny-imagenet-200/tiny-imagenet-200/val/images/'\n",
    "\n",
    "\n",
    "with open(os.path.join(base_path_valid,\"val_annotations.txt\")) as f:\n",
    "    \n",
    "    lines = f.readlines()\n",
    "    for line in lines:\n",
    "        tokens = line.split()\n",
    "        img_name = tokens[0]\n",
    "        img_label = tokens[1]\n",
    "        ID = os.path.join(st,img_name)\n",
    "        partition['validation'].append(ID)\n",
    "        labels[ID] = class_ids[img_label]"
   ]
  },
  {
   "cell_type": "code",
   "execution_count": 65,
   "metadata": {},
   "outputs": [],
   "source": [
    "\n",
    "train_generator = DataGenerator(batch_size=128,dim=(227,227),n_channels=3,list_IDs=partition['train'],\n",
    "                                labels=labels,n_classes=NO_OF_CLASSES)\n",
    "\n",
    "val_generator = DataGenerator(batch_size=128,dim=(227,227),n_channels=3,list_IDs=partition['train'],\n",
    "                                labels=labels,n_classes=NO_OF_CLASSES)\n"
   ]
  },
  {
   "cell_type": "code",
   "execution_count": 66,
   "metadata": {},
   "outputs": [
    {
     "name": "stdout",
     "output_type": "stream",
     "text": [
      "0 (128, 227, 227, 3) (128, 200)\n"
     ]
    }
   ],
   "source": [
    "for i,(x,y) in enumerate(train_generator):\n",
    "    print(i,x.shape,y.shape)\n",
    "    break"
   ]
  },
  {
   "cell_type": "code",
   "execution_count": null,
   "metadata": {},
   "outputs": [],
   "source": []
  },
  {
   "cell_type": "code",
   "execution_count": null,
   "metadata": {},
   "outputs": [],
   "source": []
  }
 ],
 "metadata": {
  "kernelspec": {
   "display_name": "Python 3",
   "language": "python",
   "name": "python3"
  },
  "language_info": {
   "codemirror_mode": {
    "name": "ipython",
    "version": 3
   },
   "file_extension": ".py",
   "mimetype": "text/x-python",
   "name": "python",
   "nbconvert_exporter": "python",
   "pygments_lexer": "ipython3",
   "version": "3.6.1"
  }
 },
 "nbformat": 4,
 "nbformat_minor": 2
}
